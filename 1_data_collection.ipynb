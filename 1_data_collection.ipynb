{
 "cells": [
  {
   "cell_type": "code",
   "execution_count": null,
   "metadata": {
    "collapsed": true
   },
   "outputs": [],
   "source": [
    "from selenium import webdriver"
   ]
  },
  {
   "cell_type": "code",
   "execution_count": null,
   "metadata": {
    "collapsed": true
   },
   "outputs": [],
   "source": [
    "df_help = pd.DataFrame(columns=['help'])\n",
    "df_review= pd.DataFrame(columns=['review'])\n",
    "df_date = pd.DataFrame(columns=['date'])\n",
    "df_author = pd.DataFrame(columns=['author'])\n",
    "df_star = pd.DataFrame(columns=['star'])"
   ]
  },
  {
   "cell_type": "markdown",
   "metadata": {},
   "source": [
    "#### 1.1) Amazon Fire "
   ]
  },
  {
   "cell_type": "code",
   "execution_count": null,
   "metadata": {
    "collapsed": false
   },
   "outputs": [],
   "source": [
    "driver = webdriver.Firefox()\n",
    "for page in range(0, 3994):          \n",
    "    driver.get(\"http://www.amazon.com/Fire-Display-Wi-Fi-GB-Includes/product-reviews/B00TSUGXKE/ref=cm_cr_arp_d_paging_btm_{page}\\\n",
    "    ?ie=UTF8&showViewpoints=1&sortBy=helpful&pageNumber={page}\".format(page=page))\n",
    "    authors = driver.find_elements_by_css_selector(\"a.a-size-base.a-link-normal.author\")\n",
    "    dates = driver.find_elements_by_css_selector(\"div.a-fixed-right-grid-col.a-col-left span.a-size-base.a-color-secondary.review-date\")\n",
    "    helpss = driver.find_elements_by_css_selector(\"div.a-section.review span.cr-vote-buttons span.a-color-secondary\")    \n",
    "    reviews = driver.find_elements_by_css_selector(\"span.a-size-base.review-text\")\n",
    "    stars = driver.find_elements_by_css_selector('div.a-fixed-right-grid-col.a-col-left a.a-link-normal i.a-icon span.a-icon-alt')\n",
    "    for helps in helpss:\n",
    "        helps = helps.get_attribute('innerHTML').replace(\",\", \"\")\n",
    "        if helps == 'Was this review helpful to you?':  # reviews with this message haven't yet received any feedback \n",
    "            helpp = [0, 0]                              # assign helpful score 0 to filter at preprocessing\n",
    "        elif '</span>' in helps:\n",
    "            continue\n",
    "        elif 'people found this helpful' in helps:      # reviews with this message contain number of feedbacks from customers\n",
    "            helpp = list([int(s) for s in helps.split() if s.isdigit()]) # extract only numerical data\n",
    "        df_help.loc[len(df_help)] = [helpp]\n",
    "    for review in reviews:\n",
    "        review = review.get_attribute('innerHTML')\n",
    "        df_review.loc[len(df_review)] = [review]\n",
    "    for author in authors:\n",
    "        author = author.get_attribute('innerHTML')\n",
    "        df_author.loc[len(df_author)] = [author]\n",
    "    for date in dates:\n",
    "        date = date.get_attribute('innerHTML').replace(\"on\", \"\")\n",
    "        df_date.loc[len(df_date)] = [date]\n",
    "    for star in stars:\n",
    "        star = star.get_attribute('innerHTML').split()[0]\n",
    "        df_star.loc[len(df_star)] = [star]\n",
    "df_help['review'] = df_review['review']\n",
    "df_help['date'] = df_date['date']\n",
    "df_help['author'] = df_author['author']\n",
    "df_help['star'] = df_star['star']"
   ]
  },
  {
   "cell_type": "code",
   "execution_count": null,
   "metadata": {
    "collapsed": true
   },
   "outputs": [],
   "source": [
    "df_help['n_help'] = df_help['help'].apply(lambda x: x[0]) # number of' helpful' feedback from customers\n",
    "df_help['n_total'] = df_help['help'].apply(lambda x: x[1]) # 'total' numer of feedbacks, either 'helpful' or 'unhelpful'\n",
    "df_help['helpful score'] = df_help['n_help'] / df_help['n_total'] # helpful score will be in the range of 0 to 1\n",
    "\n",
    "df = df_help[df_help[\"n_total\"] >= 4] # filter reviews with less than 4 feedbacks from customers\n",
    "df = df.drop('help', axis=1)\n",
    "\n",
    "cols = df.columns.tolist()\n",
    "cols = ['author', 'star', 'date', 'review', 'n_help', 'n_total', 'helpful score']\n",
    "df = df[cols]"
   ]
  },
  {
   "cell_type": "code",
   "execution_count": null,
   "metadata": {
    "collapsed": true
   },
   "outputs": [],
   "source": [
    "df.to_csv('fire_tablet_1500_200.csv', encoding='utf-8')"
   ]
  },
  {
   "cell_type": "markdown",
   "metadata": {
    "collapsed": true
   },
   "source": [
    "#### 1.21) MS Surface"
   ]
  },
  {
   "cell_type": "code",
   "execution_count": null,
   "metadata": {
    "collapsed": true
   },
   "outputs": [],
   "source": [
    "driver = webdriver.Firefox()\n",
    "for page in range(1, 52):          \n",
    "    driver.get(\"http://static.amazon.com/Microsoft-Surface-Tablet-10-8-Inch-Windows/product-reviews/B012DTDBI8/ref=cm_cr_getr_d_paging_btm_\\\n",
    "    {page}?ie=UTF8&showViewpoints=1&sortBy=helpful&pageNumber={page}\".format(page=page))\n",
    "    authors = driver.find_elements_by_css_selector(\"a.a-size-base.a-link-normal.author\")\n",
    "    dates = driver.find_elements_by_css_selector(\"div.a-fixed-right-grid-col.a-col-left span.a-size-base.a-color-secondary.review-date\")\n",
    "    helpss = driver.find_elements_by_css_selector(\"div.a-section.review span.cr-vote-buttons span.a-color-secondary\")    \n",
    "    reviews = driver.find_elements_by_css_selector(\"span.a-size-base.review-text\")\n",
    "    stars = driver.find_elements_by_css_selector('div.a-fixed-right-grid-col.a-col-left a.a-link-normal i.a-icon span.a-icon-alt')\n",
    "    for helps in helpss:\n",
    "        helps = helps.get_attribute('innerHTML').replace(\",\", \"\")\n",
    "        if helps == 'Was this review helpful to you?':\n",
    "            helpp = [0, 0]\n",
    "        elif '</span>' in helps:\n",
    "            continue\n",
    "        elif 'people found this helpful' in helps:\n",
    "            helpp = list([int(s) for s in helps.split() if s.isdigit()])\n",
    "        df_help.loc[len(df_help)] = [helpp]\n",
    "    for review in reviews:\n",
    "        review = review.get_attribute('innerHTML')\n",
    "        df_review.loc[len(df_review)] = [review]\n",
    "    for author in authors:\n",
    "        author = author.get_attribute('innerHTML')\n",
    "        df_author.loc[len(df_author)] = [author]\n",
    "    for date in dates:\n",
    "        date = date.get_attribute('innerHTML').replace(\"on\", \"\")\n",
    "        df_date.loc[len(df_date)] = [date]\n",
    "    for star in stars:\n",
    "        star = star.get_attribute('innerHTML').split()[0]\n",
    "        df_star.loc[len(df_star)] = [star]\n",
    "df_help['review'] = df_review['review']\n",
    "df_help['date'] = df_date['date']\n",
    "df_help['author'] = df_author['author']\n",
    "df_help['star'] = df_star['star']"
   ]
  },
  {
   "cell_type": "code",
   "execution_count": null,
   "metadata": {
    "collapsed": true
   },
   "outputs": [],
   "source": [
    "df_help['n_help'] = df_help['help'].apply(lambda x: x[0])\n",
    "df_help['n_total'] = df_help['help'].apply(lambda x: x[1])\n",
    "df_help['helpful score'] = df_help['n_help'] / df_help['n_total']\n",
    "\n",
    "df = df_help[df_help[\"n_total\"] >= 4]\n",
    "df = df.drop('help', axis=1)\n",
    "\n",
    "cols = df.columns.tolist()\n",
    "cols = ['author', 'star', 'date', 'review', 'n_help', 'n_total', 'helpful score']\n",
    "df = df[cols]"
   ]
  },
  {
   "cell_type": "code",
   "execution_count": null,
   "metadata": {
    "collapsed": true
   },
   "outputs": [],
   "source": [
    "df.to_csv('surface_tablet.csv', encoding='utf-8')"
   ]
  },
  {
   "cell_type": "markdown",
   "metadata": {},
   "source": [
    "#### 1.22) MS Surface"
   ]
  },
  {
   "cell_type": "code",
   "execution_count": null,
   "metadata": {
    "collapsed": false
   },
   "outputs": [],
   "source": [
    "driver = webdriver.Firefox()\n",
    "for page in range(1, 30):          \n",
    "    driver.get(\"http://static.amazon.com/Microsoft-Surface-Intel-Core-Windows/product-reviews/B00KHQWPZA/ref=cm_cr_getr_d_paging_btm_\\\n",
    "    {page}?ie=UTF8&showViewpoints=1&sortBy=helpful&pageNumber={page}\".format(page=page))\n",
    "    authors = driver.find_elements_by_css_selector(\"a.a-size-base.a-link-normal.author\")\n",
    "    dates = driver.find_elements_by_css_selector(\"div.a-fixed-right-grid-col.a-col-left span.a-size-base.a-color-secondary.review-date\")\n",
    "    helpss = driver.find_elements_by_css_selector(\"div.a-section.review span.cr-vote-buttons span.a-color-secondary\")    \n",
    "    reviews = driver.find_elements_by_css_selector(\"span.a-size-base.review-text\")\n",
    "    stars = driver.find_elements_by_css_selector('div.a-fixed-right-grid-col.a-col-left a.a-link-normal i.a-icon span.a-icon-alt')\n",
    "    for helps in helpss:\n",
    "        helps = helps.get_attribute('innerHTML').replace(\",\", \"\")\n",
    "        if helps == 'Was this review helpful to you?':\n",
    "            helpp = [0, 0]\n",
    "        elif '</span>' in helps:\n",
    "            continue\n",
    "        elif 'people found this helpful' in helps:\n",
    "            helpp = list([int(s) for s in helps.split() if s.isdigit()])\n",
    "        df_help.loc[len(df_help)] = [helpp]\n",
    "    for review in reviews:\n",
    "        review = review.get_attribute('innerHTML')\n",
    "        df_review.loc[len(df_review)] = [review]\n",
    "    for author in authors:\n",
    "        author = author.get_attribute('innerHTML')\n",
    "        df_author.loc[len(df_author)] = [author]\n",
    "    for date in dates:\n",
    "        date = date.get_attribute('innerHTML').replace(\"on\", \"\")\n",
    "        df_date.loc[len(df_date)] = [date]\n",
    "    for star in stars:\n",
    "        star = star.get_attribute('innerHTML').split()[0]\n",
    "        df_star.loc[len(df_star)] = [star]\n",
    "df_help['review'] = df_review['review']\n",
    "df_help['date'] = df_date['date']\n",
    "df_help['author'] = df_author['author']\n",
    "df_help['star'] = df_star['star']"
   ]
  },
  {
   "cell_type": "code",
   "execution_count": null,
   "metadata": {
    "collapsed": true
   },
   "outputs": [],
   "source": [
    "df_help['n_help'] = df_help['help'].apply(lambda x: x[0])\n",
    "df_help['n_total'] = df_help['help'].apply(lambda x: x[1])\n",
    "df_help['helpful score'] = df_help['n_help'] / df_help['n_total']\n",
    "\n",
    "df = df_help[df_help[\"n_total\"] >= 4]\n",
    "df = df.drop('help', axis=1)\n",
    "\n",
    "cols = df.columns.tolist()\n",
    "cols = ['author', 'star', 'date', 'review', 'n_help', 'n_total', 'helpful score']\n",
    "df = df[cols]"
   ]
  },
  {
   "cell_type": "code",
   "execution_count": null,
   "metadata": {
    "collapsed": true
   },
   "outputs": [],
   "source": [
    "df.to_csv('surface_tablet2.csv', encoding='utf-8')"
   ]
  },
  {
   "cell_type": "markdown",
   "metadata": {},
   "source": [
    "#### 1.23) MS Surface"
   ]
  },
  {
   "cell_type": "code",
   "execution_count": null,
   "metadata": {
    "collapsed": false
   },
   "outputs": [],
   "source": [
    "driver = webdriver.Firefox()\n",
    "for page in range(1, 48):          \n",
    "    driver.get(\"http://static.amazon.com/Microsoft-Surface-Pro-Intel-Core/product-reviews/B01606IDL0/ref=cm_cr_getr_d_paging_btm_{page}\\\n",
    "               ?ie=UTF8&showViewpoints=1&sortBy=helpful&pageNumber={page}\".format(page=page))\n",
    "    authors = driver.find_elements_by_css_selector(\"a.a-size-base.a-link-normal.author\")\n",
    "    dates = driver.find_elements_by_css_selector(\"div.a-fixed-right-grid-col.a-col-left span.a-size-base.a-color-secondary.review-date\")\n",
    "    helpss = driver.find_elements_by_css_selector(\"div.a-section.review span.cr-vote-buttons span.a-color-secondary\")    \n",
    "    reviews = driver.find_elements_by_css_selector(\"span.a-size-base.review-text\")\n",
    "    stars = driver.find_elements_by_css_selector('div.a-fixed-right-grid-col.a-col-left a.a-link-normal i.a-icon span.a-icon-alt')\n",
    "    for helps in helpss:\n",
    "        helps = helps.get_attribute('innerHTML').replace(\",\", \"\")\n",
    "        if helps == 'Was this review helpful to you?':\n",
    "            helpp = [0, 0]\n",
    "        elif '</span>' in helps:\n",
    "            continue\n",
    "        elif 'people found this helpful' in helps:\n",
    "            helpp = list([int(s) for s in helps.split() if s.isdigit()])\n",
    "        df_help.loc[len(df_help)] = [helpp]\n",
    "    for review in reviews:\n",
    "        review = review.get_attribute('innerHTML')\n",
    "        df_review.loc[len(df_review)] = [review]\n",
    "    for author in authors:\n",
    "        author = author.get_attribute('innerHTML')\n",
    "        df_author.loc[len(df_author)] = [author]\n",
    "    for date in dates:\n",
    "        date = date.get_attribute('innerHTML').replace(\"on\", \"\")\n",
    "        df_date.loc[len(df_date)] = [date]\n",
    "    for star in stars:\n",
    "        star = star.get_attribute('innerHTML').split()[0]\n",
    "        df_star.loc[len(df_star)] = [star]\n",
    "df_help['review'] = df_review['review']\n",
    "df_help['date'] = df_date['date']\n",
    "df_help['author'] = df_author['author']\n",
    "df_help['star'] = df_star['star']"
   ]
  },
  {
   "cell_type": "code",
   "execution_count": null,
   "metadata": {
    "collapsed": true
   },
   "outputs": [],
   "source": [
    "df_help['n_help'] = df_help['help'].apply(lambda x: x[0])\n",
    "df_help['n_total'] = df_help['help'].apply(lambda x: x[1])\n",
    "df_help['helpful score'] = df_help['n_help'] / df_help['n_total']\n",
    "\n",
    "df = df_help[df_help[\"n_total\"] >= 4]\n",
    "df = df.drop('help', axis=1)\n",
    "\n",
    "cols = df.columns.tolist()\n",
    "cols = ['author', 'star', 'date', 'review', 'n_help', 'n_total', 'helpful score']\n",
    "df = df[cols]"
   ]
  },
  {
   "cell_type": "code",
   "execution_count": null,
   "metadata": {
    "collapsed": true
   },
   "outputs": [],
   "source": [
    "df.to_csv('surface_tablet3.csv', encoding='utf-8')"
   ]
  },
  {
   "cell_type": "markdown",
   "metadata": {},
   "source": [
    "#### 1.31) Galaxy Tab"
   ]
  },
  {
   "cell_type": "code",
   "execution_count": null,
   "metadata": {
    "collapsed": true
   },
   "outputs": [],
   "source": [
    "driver = webdriver.Firefox()\n",
    "for page in range(1, 74):          \n",
    "    driver.get(\"http://www.amazon.com/Samsung-Galaxy-Tab-32GB-White/product-reviews/B010OTG3BQ/ref=cm_cr_getr_d_paging_btm_{page}\\\n",
    "    ?ie=UTF8&showViewpoints=1&sortBy=helpful&pageNumber={page}\".format(page=page))\n",
    "    authors = driver.find_elements_by_css_selector(\"a.a-size-base.a-link-normal.author\")\n",
    "    dates = driver.find_elements_by_css_selector(\"div.a-fixed-right-grid-col.a-col-left span.a-size-base.a-color-secondary.review-date\")\n",
    "    helpss = driver.find_elements_by_css_selector(\"div.a-section.review span.cr-vote-buttons span.a-color-secondary\")    \n",
    "    reviews = driver.find_elements_by_css_selector(\"span.a-size-base.review-text\")\n",
    "    stars = driver.find_elements_by_css_selector('div.a-fixed-right-grid-col.a-col-left a.a-link-normal i.a-icon span.a-icon-alt')\n",
    "    for helps in helpss:\n",
    "        helps = helps.get_attribute('innerHTML').replace(\",\", \"\")\n",
    "        if helps == 'Was this review helpful to you?':\n",
    "            helpp = [0, 0]\n",
    "        elif '</span>' in helps:\n",
    "            continue\n",
    "        elif 'people found this helpful' in helps:\n",
    "            helpp = list([int(s) for s in helps.split() if s.isdigit()])\n",
    "        df_help.loc[len(df_help)] = [helpp]\n",
    "    for review in reviews:\n",
    "        review = review.get_attribute('innerHTML')\n",
    "        df_review.loc[len(df_review)] = [review]\n",
    "    for author in authors:\n",
    "        author = author.get_attribute('innerHTML')\n",
    "        df_author.loc[len(df_author)] = [author]\n",
    "    for date in dates:\n",
    "        date = date.get_attribute('innerHTML').replace(\"on\", \"\")\n",
    "        df_date.loc[len(df_date)] = [date]\n",
    "    for star in stars:\n",
    "        star = star.get_attribute('innerHTML').split()[0]\n",
    "        df_star.loc[len(df_star)] = [star]\n",
    "df_help['review'] = df_review['review']\n",
    "df_help['date'] = df_date['date']\n",
    "df_help['author'] = df_author['author']\n",
    "df_help['star'] = df_star['star']"
   ]
  },
  {
   "cell_type": "code",
   "execution_count": null,
   "metadata": {
    "collapsed": true
   },
   "outputs": [],
   "source": [
    "df_help['n_help'] = df_help['help'].apply(lambda x: x[0])\n",
    "df_help['n_total'] = df_help['help'].apply(lambda x: x[1])\n",
    "df_help['helpful score'] = df_help['n_help'] / df_help['n_total']\n",
    "\n",
    "df = df_help[df_help[\"n_total\"] >= 4]\n",
    "df = df.drop('help', axis=1)\n",
    "\n",
    "cols = df.columns.tolist()\n",
    "cols = ['author', 'star', 'date', 'review', 'n_help', 'n_total', 'helpful score']\n",
    "df = df[cols]"
   ]
  },
  {
   "cell_type": "code",
   "execution_count": null,
   "metadata": {
    "collapsed": true
   },
   "outputs": [],
   "source": [
    "df.to_csv('galaxy_tab1.csv', encoding='utf-8')"
   ]
  },
  {
   "cell_type": "markdown",
   "metadata": {},
   "source": [
    "#### 1.32) Galaxy Tab"
   ]
  },
  {
   "cell_type": "code",
   "execution_count": null,
   "metadata": {
    "collapsed": false
   },
   "outputs": [],
   "source": [
    "driver = webdriver.Firefox()\n",
    "for page in range(1, 150):          \n",
    "    driver.get(\"http://static.amazon.com/Samsung-Galaxy-Tab-7-Inch-White/product-reviews/B00J8DL78O/ref=cm_cr_getr_d_paging_btm_{page}\\\n",
    "    ?ie=UTF8&showViewpoints=1&sortBy=helpful&pageNumber={page}\".format(page=page))\n",
    "    authors = driver.find_elements_by_css_selector(\"a.a-size-base.a-link-normal.author\")\n",
    "    dates = driver.find_elements_by_css_selector(\"div.a-fixed-right-grid-col.a-col-left span.a-size-base.a-color-secondary.review-date\")\n",
    "    helpss = driver.find_elements_by_css_selector(\"div.a-section.review span.cr-vote-buttons span.a-color-secondary\")    \n",
    "    reviews = driver.find_elements_by_css_selector(\"span.a-size-base.review-text\")\n",
    "    stars = driver.find_elements_by_css_selector('div.a-fixed-right-grid-col.a-col-left a.a-link-normal i.a-icon span.a-icon-alt')\n",
    "    for helps in helpss:\n",
    "        helps = helps.get_attribute('innerHTML').replace(\",\", \"\")\n",
    "        if helps == 'Was this review helpful to you?':\n",
    "            helpp = [0, 0]\n",
    "        elif '</span>' in helps:\n",
    "            continue\n",
    "        elif 'people found this helpful' in helps:\n",
    "            helpp = list([int(s) for s in helps.split() if s.isdigit()])\n",
    "        df_help.loc[len(df_help)] = [helpp]\n",
    "    for review in reviews:\n",
    "        review = review.get_attribute('innerHTML')\n",
    "        df_review.loc[len(df_review)] = [review]\n",
    "    for author in authors:\n",
    "        author = author.get_attribute('innerHTML')\n",
    "        df_author.loc[len(df_author)] = [author]\n",
    "    for date in dates:\n",
    "        date = date.get_attribute('innerHTML').replace(\"on\", \"\")\n",
    "        df_date.loc[len(df_date)] = [date]\n",
    "    for star in stars:\n",
    "        star = star.get_attribute('innerHTML').split()[0]\n",
    "        df_star.loc[len(df_star)] = [star]\n",
    "df_help['review'] = df_review['review']\n",
    "df_help['date'] = df_date['date']\n",
    "df_help['author'] = df_author['author']\n",
    "df_help['star'] = df_star['star']"
   ]
  },
  {
   "cell_type": "code",
   "execution_count": null,
   "metadata": {
    "collapsed": true
   },
   "outputs": [],
   "source": [
    "df_help['n_help'] = df_help['help'].apply(lambda x: x[0])\n",
    "df_help['n_total'] = df_help['help'].apply(lambda x: x[1])\n",
    "df_help['helpful score'] = df_help['n_help'] / df_help['n_total']\n",
    "\n",
    "df = df_help[df_help[\"n_total\"] >= 4]\n",
    "df = df.drop('help', axis=1)\n",
    "\n",
    "cols = df.columns.tolist()\n",
    "cols = ['author', 'star', 'date', 'review', 'n_help', 'n_total', 'helpful score']\n",
    "df = df[cols]"
   ]
  },
  {
   "cell_type": "code",
   "execution_count": null,
   "metadata": {
    "collapsed": true
   },
   "outputs": [],
   "source": [
    "df.to_csv('galaxy_tab2.csv', encoding='utf-8')"
   ]
  },
  {
   "cell_type": "markdown",
   "metadata": {},
   "source": [
    "#### 1.33) Galaxy Tab"
   ]
  },
  {
   "cell_type": "code",
   "execution_count": null,
   "metadata": {
    "collapsed": true
   },
   "outputs": [],
   "source": [
    "driver = webdriver.Firefox()\n",
    "for page in range(1, 50):          \n",
    "    driver.get(\"http://www.amazon.com/Samsung-Galaxy-7-Inch-White-SM-T210/product-reviews/B00D02AGU4/ref=cm_cr_arp_d_paging_btm_{page}\\\n",
    "    ?ie=UTF8&showViewpoints=1&sortBy=helpful&pageNumber={page}\".format(page=page))\n",
    "    authors = driver.find_elements_by_css_selector(\"a.a-size-base.a-link-normal.author\")\n",
    "    dates = driver.find_elements_by_css_selector(\"div.a-fixed-right-grid-col.a-col-left span.a-size-base.a-color-secondary.review-date\")\n",
    "    helpss = driver.find_elements_by_css_selector(\"div.a-section.review span.cr-vote-buttons span.a-color-secondary\")    \n",
    "    reviews = driver.find_elements_by_css_selector(\"span.a-size-base.review-text\")\n",
    "    stars = driver.find_elements_by_css_selector('div.a-fixed-right-grid-col.a-col-left a.a-link-normal i.a-icon span.a-icon-alt')\n",
    "    for helps in helpss:\n",
    "        helps = helps.get_attribute('innerHTML').replace(\",\", \"\")\n",
    "        if helps == 'Was this review helpful to you?':\n",
    "            helpp = [0, 0]\n",
    "        elif '</span>' in helps:\n",
    "            continue\n",
    "        elif 'people found this helpful' in helps:\n",
    "            helpp = list([int(s) for s in helps.split() if s.isdigit()])\n",
    "        df_help.loc[len(df_help)] = [helpp]\n",
    "    for review in reviews:\n",
    "        review = review.get_attribute('innerHTML')\n",
    "        df_review.loc[len(df_review)] = [review]\n",
    "    for author in authors:\n",
    "        author = author.get_attribute('innerHTML')\n",
    "        df_author.loc[len(df_author)] = [author]\n",
    "    for date in dates:\n",
    "        date = date.get_attribute('innerHTML').replace(\"on\", \"\")\n",
    "        df_date.loc[len(df_date)] = [date]\n",
    "    for star in stars:\n",
    "        star = star.get_attribute('innerHTML').split()[0]\n",
    "        df_star.loc[len(df_star)] = [star]\n",
    "df_help['review'] = df_review['review']\n",
    "df_help['date'] = df_date['date']\n",
    "df_help['author'] = df_author['author']\n",
    "df_help['star'] = df_star['star']"
   ]
  },
  {
   "cell_type": "code",
   "execution_count": null,
   "metadata": {
    "collapsed": true
   },
   "outputs": [],
   "source": [
    "df_help['n_help'] = df_help['help'].apply(lambda x: x[0])\n",
    "df_help['n_total'] = df_help['help'].apply(lambda x: x[1])\n",
    "df_help['helpful score'] = df_help['n_help'] / df_help['n_total']\n",
    "\n",
    "df = df_help[df_help[\"n_total\"] >= 4]\n",
    "df = df.drop('help', axis=1)\n",
    "\n",
    "cols = df.columns.tolist()\n",
    "cols = ['author', 'star', 'date', 'review', 'n_help', 'n_total', 'helpful score']\n",
    "df = df[cols]"
   ]
  },
  {
   "cell_type": "code",
   "execution_count": null,
   "metadata": {
    "collapsed": true
   },
   "outputs": [],
   "source": [
    "df.to_csv('galaxy_tab3.csv', encoding='utf-8')"
   ]
  }
 ],
 "metadata": {
  "kernelspec": {
   "display_name": "Python 2",
   "language": "python",
   "name": "python2"
  },
  "language_info": {
   "codemirror_mode": {
    "name": "ipython",
    "version": 2
   },
   "file_extension": ".py",
   "mimetype": "text/x-python",
   "name": "python",
   "nbconvert_exporter": "python",
   "pygments_lexer": "ipython2",
   "version": "2.7.11"
  }
 },
 "nbformat": 4,
 "nbformat_minor": 0
}
